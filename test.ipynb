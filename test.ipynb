{
 "cells": [
  {
   "cell_type": "code",
   "execution_count": 1,
   "metadata": {},
   "outputs": [],
   "source": [
    "import joblib"
   ]
  },
  {
   "cell_type": "code",
   "execution_count": 2,
   "metadata": {},
   "outputs": [],
   "source": [
    "model_pipeline = joblib.load('model_pipeline.joblib')"
   ]
  },
  {
   "cell_type": "code",
   "execution_count": 3,
   "metadata": {},
   "outputs": [
    {
     "data": {
      "text/plain": [
       "{'memory': None,\n",
       " 'steps': [('preprocessor',\n",
       "   ColumnTransformer(transformers=[('num', StandardScaler(),\n",
       "                                    ['Age', 'Annual_Income',\n",
       "                                     'Monthly_Inhand_Salary', 'Num_Bank_Accounts',\n",
       "                                     'Num_Credit_Card', 'Interest_Rate',\n",
       "                                     'Num_of_Loan', 'Delay_from_due_date',\n",
       "                                     'Num_Credit_Inquiries',\n",
       "                                     'Credit_Utilization_Ratio',\n",
       "                                     'Total_EMI_per_month',\n",
       "                                     'Amount_invested_monthly',\n",
       "                                     'Monthly_Balance']),\n",
       "                                   ('cat', OneHotEncoder(drop='first'),\n",
       "                                    ['Month', 'Name', 'Occupation', 'Type_of_Loan',\n",
       "                                     'Changed_Credit_Limit', 'Outstanding_Debt',\n",
       "                                     'Payment_of_Min_Amount',\n",
       "                                     'Payment_Behaviour'])])),\n",
       "  ('model', LogisticRegression())],\n",
       " 'verbose': False,\n",
       " 'preprocessor': ColumnTransformer(transformers=[('num', StandardScaler(),\n",
       "                                  ['Age', 'Annual_Income',\n",
       "                                   'Monthly_Inhand_Salary', 'Num_Bank_Accounts',\n",
       "                                   'Num_Credit_Card', 'Interest_Rate',\n",
       "                                   'Num_of_Loan', 'Delay_from_due_date',\n",
       "                                   'Num_Credit_Inquiries',\n",
       "                                   'Credit_Utilization_Ratio',\n",
       "                                   'Total_EMI_per_month',\n",
       "                                   'Amount_invested_monthly',\n",
       "                                   'Monthly_Balance']),\n",
       "                                 ('cat', OneHotEncoder(drop='first'),\n",
       "                                  ['Month', 'Name', 'Occupation', 'Type_of_Loan',\n",
       "                                   'Changed_Credit_Limit', 'Outstanding_Debt',\n",
       "                                   'Payment_of_Min_Amount',\n",
       "                                   'Payment_Behaviour'])]),\n",
       " 'model': LogisticRegression(),\n",
       " 'preprocessor__force_int_remainder_cols': True,\n",
       " 'preprocessor__n_jobs': None,\n",
       " 'preprocessor__remainder': 'drop',\n",
       " 'preprocessor__sparse_threshold': 0.3,\n",
       " 'preprocessor__transformer_weights': None,\n",
       " 'preprocessor__transformers': [('num',\n",
       "   StandardScaler(),\n",
       "   ['Age',\n",
       "    'Annual_Income',\n",
       "    'Monthly_Inhand_Salary',\n",
       "    'Num_Bank_Accounts',\n",
       "    'Num_Credit_Card',\n",
       "    'Interest_Rate',\n",
       "    'Num_of_Loan',\n",
       "    'Delay_from_due_date',\n",
       "    'Num_Credit_Inquiries',\n",
       "    'Credit_Utilization_Ratio',\n",
       "    'Total_EMI_per_month',\n",
       "    'Amount_invested_monthly',\n",
       "    'Monthly_Balance']),\n",
       "  ('cat',\n",
       "   OneHotEncoder(drop='first'),\n",
       "   ['Month',\n",
       "    'Name',\n",
       "    'Occupation',\n",
       "    'Type_of_Loan',\n",
       "    'Changed_Credit_Limit',\n",
       "    'Outstanding_Debt',\n",
       "    'Payment_of_Min_Amount',\n",
       "    'Payment_Behaviour'])],\n",
       " 'preprocessor__verbose': False,\n",
       " 'preprocessor__verbose_feature_names_out': True,\n",
       " 'preprocessor__num': StandardScaler(),\n",
       " 'preprocessor__cat': OneHotEncoder(drop='first'),\n",
       " 'preprocessor__num__copy': True,\n",
       " 'preprocessor__num__with_mean': True,\n",
       " 'preprocessor__num__with_std': True,\n",
       " 'preprocessor__cat__categories': 'auto',\n",
       " 'preprocessor__cat__drop': 'first',\n",
       " 'preprocessor__cat__dtype': numpy.float64,\n",
       " 'preprocessor__cat__feature_name_combiner': 'concat',\n",
       " 'preprocessor__cat__handle_unknown': 'error',\n",
       " 'preprocessor__cat__max_categories': None,\n",
       " 'preprocessor__cat__min_frequency': None,\n",
       " 'preprocessor__cat__sparse_output': True,\n",
       " 'model__C': 1.0,\n",
       " 'model__class_weight': None,\n",
       " 'model__dual': False,\n",
       " 'model__fit_intercept': True,\n",
       " 'model__intercept_scaling': 1,\n",
       " 'model__l1_ratio': None,\n",
       " 'model__max_iter': 100,\n",
       " 'model__multi_class': 'deprecated',\n",
       " 'model__n_jobs': None,\n",
       " 'model__penalty': 'l2',\n",
       " 'model__random_state': None,\n",
       " 'model__solver': 'lbfgs',\n",
       " 'model__tol': 0.0001,\n",
       " 'model__verbose': 0,\n",
       " 'model__warm_start': False}"
      ]
     },
     "execution_count": 3,
     "metadata": {},
     "output_type": "execute_result"
    }
   ],
   "source": [
    "model_pipeline.get_params()"
   ]
  },
  {
   "cell_type": "code",
   "execution_count": null,
   "metadata": {},
   "outputs": [],
   "source": [
    "features = pd.DataFrame({\n",
    "            'Anuual_Income': ['Scinetist'],\n",
    "            'Monthly_Inhand_Salary': [1000],\n",
    "            'Num_Bank_Accounts': [5],\n",
    "            'Num_Credit_Card': [4],\n",
    "            'Interest_Rate': [9],\n",
    "            'Num_of_Loan': [1],\n",
    "            'Num_Credit_Inquiries': [5],\n",
    "            'Credit_Utilization_Ratio': [40],\n",
    "            'Total_EMI_per_month': [1000],\n",
    "            'Amount_invested_monthly' : [1000],\n",
    "             'Monthly_Balance' : [5000]\n",
    "        })"
   ]
  }
 ],
 "metadata": {
  "kernelspec": {
   "display_name": "Python 3",
   "language": "python",
   "name": "python3"
  },
  "language_info": {
   "codemirror_mode": {
    "name": "ipython",
    "version": 3
   },
   "file_extension": ".py",
   "mimetype": "text/x-python",
   "name": "python",
   "nbconvert_exporter": "python",
   "pygments_lexer": "ipython3",
   "version": "3.12.4"
  }
 },
 "nbformat": 4,
 "nbformat_minor": 2
}
